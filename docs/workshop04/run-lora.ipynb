{
 "cells": [
  {
   "cell_type": "code",
   "execution_count": 1,
   "metadata": {},
   "outputs": [
    {
     "name": "stderr",
     "output_type": "stream",
     "text": [
      "Special tokens have been added in the vocabulary, make sure the associated word embeddings are fine-tuned or trained.\n"
     ]
    },
    {
     "data": {
      "application/vnd.jupyter.widget-view+json": {
       "model_id": "398c20916bd6403e87d07a193a7da45e",
       "version_major": 2,
       "version_minor": 0
      },
      "text/plain": [
       "Loading checkpoint shards:   0%|          | 0/4 [00:00<?, ?it/s]"
      ]
     },
     "metadata": {},
     "output_type": "display_data"
    }
   ],
   "source": [
    "from transformers import AutoModelForCausalLM, AutoTokenizer\n",
    "import torch\n",
    "from peft import PeftModel\n",
    "mode_path = '/root/autodl-tmp/qwen/Qwen2-7B-Instruct/'\n",
    "lora_path = '/root/loraoutput/Qwen2_instruct_lora/checkpoint-70' # 这里改称你的 lora 输出对应 checkpoint 地址\n",
    "\n",
    "# 加载tokenizer\n",
    "tokenizer = AutoTokenizer.from_pretrained(mode_path, trust_remote_code=True)\n",
    "\n",
    "# 加载模型\n",
    "model = AutoModelForCausalLM.from_pretrained(mode_path, device_map=\"auto\",torch_dtype=torch.bfloat16, trust_remote_code=True).eval()\n",
    "\n",
    "# 加载lora权重\n",
    "model = PeftModel.from_pretrained(model, model_id=lora_path)\n",
    "\n",
    "\n",
    "\n",
    "# 天下没有不散的筵席，那么我们相聚的意义又是什么？\n",
    "# 咖啡严格来说是不是也可以叫豆浆？\n",
    "# 石油也是油，为啥没人用它来炒菜？\n",
    "# 执行死刑时可以委托律师替我去吗？\n",
    "# 目前我国同性群体离婚率为零，这是否说明同性间结婚比异性更有优势？\n",
    "# 大家都说我嘴很甜，他们是怎么尝出来的？\n",
    "# 吃了降压药之后可以摸高压电吗？\n",
    "# 我爸再婚，我是不是就有了个新娘？\n",
    "# 为什么我爸妈结婚的时候没邀请我参加婚礼？\n",
    "# 蓝牙耳机坏了，去医院挂号挂牙科还是耳科？\n",
    "# 赤道那么暖和，为什么不给东北修一条？\n",
    "# 为什么长寿的都是老年人？\n",
    "# 跳多高才能跳过广告？\n",
    "# 我女朋友的老公应该叫我什么？\n",
    "# 午餐肉可以在晚餐吃吗？\n",
    "# 我想配个六千元左右的电脑，大概要多少钱？\n",
    "# 香菇掉粪坑里了还能叫香菇吗？\n",
    "# 变形金刚买保险是买车险还是人险？\n",
    "# 生蚝煮熟了之后叫什么？\n",
    "# 老鼠生病了，可以吃老鼠药治好吗？\n",
    "# 去自首的路上被抓了还算自首吗？\n",
    "# 监狱里罪犯那么多，警察为什么不直接到监狱抓人？\n",
    "# 地球上的望远镜能看到那么多星球，为什么看不到地球？\n"
   ]
  },
  {
   "cell_type": "code",
   "execution_count": 2,
   "metadata": {},
   "outputs": [],
   "source": [
    "def get_response(messages) -> str:\n",
    "    # messages = [\n",
    "    #     {\"role\": \"system\", \"content\": \"You are a helpful assistant.\"},\n",
    "    #     {\"role\": \"user\", \"content\": prompt}\n",
    "    # ]\n",
    "    text = tokenizer.apply_chat_template(\n",
    "        messages,\n",
    "        tokenize=False,\n",
    "        add_generation_prompt=True\n",
    "    )\n",
    "    model_inputs = tokenizer([text], return_tensors=\"pt\").to('cuda')\n",
    "\n",
    "    generated_ids = model.generate(\n",
    "        model_inputs.input_ids,\n",
    "        max_new_tokens=512\n",
    "    )\n",
    "    generated_ids = [\n",
    "        output_ids[len(input_ids):] for input_ids, output_ids in zip(model_inputs.input_ids, generated_ids)\n",
    "    ]\n",
    "\n",
    "    response = tokenizer.batch_decode(generated_ids, skip_special_tokens=True)[0]\n",
    "    return response"
   ]
  },
  {
   "cell_type": "code",
   "execution_count": 3,
   "metadata": {},
   "outputs": [
    {
     "name": "stdout",
     "output_type": "stream",
     "text": [
      "相聚的意义在于让彼此的人生不再孤单，虽然最终会各奔东西，但至少在那段时光里我们曾经共同走过。\n"
     ]
    }
   ],
   "source": [
    "\n",
    "prompt = \"天下没有不散的筵席，那么我们相聚的意义又是什么？\"\n",
    "messages = [\n",
    "        {\"role\": \"system\", \"content\": \"你是一个 bilibili 或者 B 站的用户, 你的任务是回复网友的问题.\"},\n",
    "        {\"role\": \"user\", \"content\": prompt}\n",
    "    ]\n",
    "print(get_response(messages));\n"
   ]
  },
  {
   "cell_type": "code",
   "execution_count": 4,
   "metadata": {},
   "outputs": [
    {
     "name": "stdout",
     "output_type": "stream",
     "text": [
      "六千左右的配置，我给配个。\n"
     ]
    }
   ],
   "source": [
    "prompt = \"我想配个六千元左右的电脑，大概要多少钱？\"\n",
    "messages = [\n",
    "        {\"role\": \"system\", \"content\": \"你是一个 bilibili 或者 B 站的用户, 你的任务是回复网友的问题.\"},\n",
    "        {\"role\": \"user\", \"content\": prompt}\n",
    "    ]\n",
    "print(get_response(messages));"
   ]
  },
  {
   "cell_type": "code",
   "execution_count": null,
   "metadata": {},
   "outputs": [],
   "source": []
  }
 ],
 "metadata": {
  "kernelspec": {
   "display_name": "Python 3 (ipykernel)",
   "language": "python",
   "name": "python3"
  },
  "language_info": {
   "codemirror_mode": {
    "name": "ipython",
    "version": 3
   },
   "file_extension": ".py",
   "mimetype": "text/x-python",
   "name": "python",
   "nbconvert_exporter": "python",
   "pygments_lexer": "ipython3",
   "version": "3.10.8"
  }
 },
 "nbformat": 4,
 "nbformat_minor": 4
}
