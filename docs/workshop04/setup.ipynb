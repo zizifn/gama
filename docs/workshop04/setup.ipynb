{
 "cells": [
  {
   "cell_type": "markdown",
   "metadata": {},
   "source": []
  },
  {
   "cell_type": "markdown",
   "metadata": {},
   "source": [
    "安装阿里的 modelscope， 并且下载模型到指定的目的"
   ]
  },
  {
   "cell_type": "code",
   "execution_count": 1,
   "metadata": {},
   "outputs": [
    {
     "data": {
      "text/plain": [
       "True"
      ]
     },
     "execution_count": 1,
     "metadata": {},
     "output_type": "execute_result"
    }
   ],
   "source": [
    "!%pip install modelscope==1.9.5\n",
    "!%pip install \"transformers>=4.39.0\"\n",
    "!%pip install streamlit==1.24.0\n",
    "!%pip install sentencepiece==0.1.99\n",
    "!%pip install accelerate==0.27\n",
    "!%pip install transformers_stream_generator==0.0.4\n",
    "!%pip install datasets==2.18.0\n",
    "!%pip install peft==0.10.0\n",
    "\n",
    "# 可选\n",
    "!MAX_JOBS=8 %pip install flash-attn --no-build-isolation "
   ]
  },
  {
   "cell_type": "code",
   "execution_count": null,
   "metadata": {},
   "outputs": [],
   "source": [
    "import torch\n",
    "from modelscope import snapshot_download, AutoModel, AutoTokenizer\n",
    "import os\n",
    "model_dir = snapshot_download('qwen/Qwen2-7B-Instruct', cache_dir='/root/autodl-tmp', revision='master')"
   ]
  }
 ],
 "metadata": {
  "kernelspec": {
   "display_name": "Python 3",
   "language": "python",
   "name": "python3"
  },
  "language_info": {
   "codemirror_mode": {
    "name": "ipython",
    "version": 3
   },
   "file_extension": ".py",
   "mimetype": "text/x-python",
   "name": "python",
   "nbconvert_exporter": "python",
   "pygments_lexer": "ipython3",
   "version": "3.11.2"
  }
 },
 "nbformat": 4,
 "nbformat_minor": 2
}
