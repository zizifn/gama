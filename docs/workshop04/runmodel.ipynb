{
 "cells": [
  {
   "cell_type": "code",
   "execution_count": 1,
   "metadata": {},
   "outputs": [
    {
     "data": {
      "application/vnd.jupyter.widget-view+json": {
       "model_id": "4d6d508e6d9d4e57ba8358bee650b4ae",
       "version_major": 2,
       "version_minor": 0
      },
      "text/plain": [
       "Loading checkpoint shards:   0%|          | 0/4 [00:00<?, ?it/s]"
      ]
     },
     "metadata": {},
     "output_type": "display_data"
    },
    {
     "name": "stderr",
     "output_type": "stream",
     "text": [
      "Special tokens have been added in the vocabulary, make sure the associated word embeddings are fine-tuned or trained.\n"
     ]
    }
   ],
   "source": [
    "from transformers import AutoModelForCausalLM, AutoTokenizer\n",
    "device = \"cuda\" # the device to load the model onto\n",
    "\n",
    "model_path= '/root/autodl-tmp/qwen/Qwen2-7B-Instruct'\n",
    "\n",
    "model = AutoModelForCausalLM.from_pretrained(\n",
    "    # \"Qwen/Qwen2-7B-Instruct\",\n",
    "    model_path,\n",
    "    torch_dtype=\"auto\",\n",
    "    device_map=\"auto\"\n",
    ")\n",
    "# tokenizer = AutoTokenizer.from_pretrained(\"Qwen/Qwen2-7B-Instruct\")\n",
    "tokenizer = AutoTokenizer.from_pretrained(model_path)\n",
    "\n",
    "\n",
    "# 天下没有不散的筵席，那么我们相聚的意义又是什么？\n",
    "# 咖啡严格来说是不是也可以叫豆浆？\n",
    "# 石油也是油，为啥没人用它来炒菜？\n",
    "# 执行死刑时可以委托律师替我去吗？\n",
    "# 目前我国同性群体离婚率为零，这是否说明同性间结婚比异性更有优势？\n",
    "# 大家都说我嘴很甜，他们是怎么尝出来的？\n",
    "# 吃了降压药之后可以摸高压电吗？\n",
    "# 我爸再婚，我是不是就有了个新娘？\n",
    "# 为什么我爸妈结婚的时候没邀请我参加婚礼？\n",
    "# 蓝牙耳机坏了，去医院挂号挂牙科还是耳科？\n",
    "# 赤道那么暖和，为什么不给东北修一条？\n",
    "# 为什么长寿的都是老年人？\n",
    "# 跳多高才能跳过广告？\n",
    "# 我女朋友的老公应该叫我什么？\n",
    "# 午餐肉可以在晚餐吃吗？\n",
    "# 我想配个六千元左右的电脑，大概要多少钱？\n",
    "# 香菇掉粪坑里了还能叫香菇吗？\n",
    "# 变形金刚买保险是买车险还是人险？\n",
    "# 生蚝煮熟了之后叫什么？\n",
    "# 老鼠生病了，可以吃老鼠药治好吗？\n",
    "# 去自首的路上被抓了还算自首吗？\n",
    "# 监狱里罪犯那么多，警察为什么不直接到监狱抓人？\n",
    "# 地球上的望远镜能看到那么多星球，为什么看不到地球？\n"
   ]
  },
  {
   "cell_type": "code",
   "execution_count": 2,
   "metadata": {},
   "outputs": [],
   "source": [
    "def get_response(messages) -> str:\n",
    "    # messages = [\n",
    "    #     {\"role\": \"system\", \"content\": \"You are a helpful assistant.\"},\n",
    "    #     {\"role\": \"user\", \"content\": prompt}\n",
    "    # ]\n",
    "    text = tokenizer.apply_chat_template(\n",
    "        messages,\n",
    "        tokenize=False,\n",
    "        add_generation_prompt=True\n",
    "    )\n",
    "    model_inputs = tokenizer([text], return_tensors=\"pt\").to(device)\n",
    "\n",
    "    generated_ids = model.generate(\n",
    "        model_inputs.input_ids,\n",
    "        max_new_tokens=512\n",
    "    )\n",
    "    generated_ids = [\n",
    "        output_ids[len(input_ids):] for input_ids, output_ids in zip(model_inputs.input_ids, generated_ids)\n",
    "    ]\n",
    "\n",
    "    response = tokenizer.batch_decode(generated_ids, skip_special_tokens=True)[0]\n",
    "    return response"
   ]
  },
  {
   "cell_type": "code",
   "execution_count": 5,
   "metadata": {},
   "outputs": [
    {
     "name": "stdout",
     "output_type": "stream",
     "text": [
      "“天下没有不散的筵席”这句话虽然表达了离别的无奈，但同时也蕴含着相聚的重要意义。相聚的意义在于：\n",
      "\n",
      "1. **情感交流与成长**：无论是家人、朋友还是恋人之间的相聚，都是情感交流的宝贵时刻。通过这些时刻，人们能够分享快乐、分担忧愁，增进彼此的理解和感情，促进个人的情感成长和社会适应能力。\n",
      "\n",
      "2. **记忆与回忆**：每一次相聚都可能成为难忘的记忆。这些回忆不仅丰富了个人的生活体验，也成为了连接过去与未来的桥梁，让人在未来的日子里回想起那些温暖的时光。\n",
      "\n",
      "3. **支持与鼓励**：在相聚中，人们可以互相提供支持和鼓励，无论是面对生活中的挑战还是追求梦想时的困难。这种相互扶持的力量，对于个体的心理健康和实现目标具有重要意义。\n",
      "\n",
      "4. **学习与合作**：在团队或集体中相聚，成员们可以共同学习新知识、技能，或者一起完成项目。这种合作不仅能增强团队凝聚力，还能促进个人在专业领域内的成长和发展。\n",
      "\n",
      "5. **文化传承与共享**：在家庭或社区中，相聚往往伴随着文化活动、传统节日的庆祝等，这些都是文化传承的重要方式。通过分享习俗、故事和传统，人们能够更好地理解自己的根源，同时也能让文化得以延续和发扬。\n",
      "\n",
      "6. **创造新机会**：相聚不仅仅是结束，它也可能是一个新的开始。通过建立联系、分享想法，人们可以在不同场合中创造出新的合作机会，推动个人和社会的发展。\n",
      "\n",
      "总之，相聚的意义超越了短暂的时光，它是一种深刻的人际关系的体现，对个人的情感、社会功能以及文化的传承都有着不可替代的价值。即使相聚终将结束，那些珍贵的经历和情感连接会成为我们人生中宝贵的财富。\n"
     ]
    }
   ],
   "source": [
    "\n",
    "prompt = \"天下没有不散的筵席，那么我们相聚的意义又是什么？\"\n",
    "messages = [\n",
    "        {\"role\": \"system\", \"content\": \"你是一个 bilibili 或者 B 站的用户, 你的任务是回复网友的问题.\"},\n",
    "        {\"role\": \"user\", \"content\": prompt}\n",
    "    ]\n",
    "print(get_response(messages));\n"
   ]
  },
  {
   "cell_type": "code",
   "execution_count": 6,
   "metadata": {},
   "outputs": [
    {
     "name": "stdout",
     "output_type": "stream",
     "text": [
      "根据您的预算6000元来配置一台电脑，我们可以按照以下配置方案来规划：\n",
      "\n",
      "### 配置清单\n",
      "\n",
      "1. **CPU**（中央处理器）：AMD Ryzen 5 5600X 或 Intel Core i5-11400F。这两个选项都属于中高端级别的处理器，性能稳定且性价比较高。\n",
      "2. **主板**：考虑到兼容性和性价比，可以选AMD的B550芯片组主板或Intel的H410芯片组主板。例如，ASUS TUF Gaming B550M-PLUS 或 MSI B550M PRO-VD.\n",
      "3. **内存**：建议选择16GB DDR4内存，如金士顿或芝奇品牌的内存条，速度在2666MHz以上。\n",
      "4. **显卡**：NVIDIA GeForce GTX 1650 或 AMD Radeon RX 5500 XT。这两款显卡在6000元预算内都能提供不错的游戏性能。\n",
      "5. **硬盘**：SSD+HDD组合，推荐购买至少1TB容量的SSD和1TB容量的HDD。SSD可以选择三星、金士顿或Crucial品牌，HDD可以选择希捷或西数。\n",
      "6. **电源**：选择额定功率在500W以上的电源，推荐品牌有海韵、安钛克或酷冷至尊等。\n",
      "7. **机箱**：根据个人喜好选择，一般中塔或小塔式机箱即可，注意散热和扩展性。\n",
      "\n",
      "### 总价预估\n",
      "\n",
      "根据上述配置，总价预计在5800-6200元之间，具体价格会因品牌、促销活动等因素有所波动。在实际购买时，可以关注各大电商平台的优惠信息，以获取更好的性价比。\n",
      "\n",
      "### 注意事项\n",
      "\n",
      "- 在购买前，确保所有配件的兼容性，特别是CPU与主板之间的兼容性。\n",
      "- 考虑到未来可能的升级需求，选择支持扩展的配件，如预留PCI-E插槽。\n",
      "- 了解各个品牌和型号的具体参数，挑选信誉好、评价高的产品。\n",
      "\n",
      "希望这个配置建议能帮助您构建出符合需求的电脑！如果有更具体的使用场景（如专业软件应用、特定游戏需求等），可以根据这些信息调整配置方案。\n"
     ]
    }
   ],
   "source": [
    "prompt = \"我想配个六千元左右的电脑，大概要多少钱？\"\n",
    "messages = [\n",
    "        {\"role\": \"system\", \"content\": \"你是一个 bilibili 或者 B 站的用户, 你的任务是回复网友的问题.\"},\n",
    "        {\"role\": \"user\", \"content\": prompt}\n",
    "    ]\n",
    "print(get_response(messages));"
   ]
  },
  {
   "cell_type": "code",
   "execution_count": null,
   "metadata": {},
   "outputs": [],
   "source": []
  }
 ],
 "metadata": {
  "kernelspec": {
   "display_name": "Python 3 (ipykernel)",
   "language": "python",
   "name": "python3"
  },
  "language_info": {
   "codemirror_mode": {
    "name": "ipython",
    "version": 3
   },
   "file_extension": ".py",
   "mimetype": "text/x-python",
   "name": "python",
   "nbconvert_exporter": "python",
   "pygments_lexer": "ipython3",
   "version": "3.10.8"
  }
 },
 "nbformat": 4,
 "nbformat_minor": 4
}
