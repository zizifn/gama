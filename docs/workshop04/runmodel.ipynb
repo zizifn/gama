{
 "cells": [
  {
   "cell_type": "code",
   "execution_count": 1,
   "metadata": {},
   "outputs": [
    {
     "data": {
      "application/vnd.jupyter.widget-view+json": {
       "model_id": "fcc6010ed1694bf2904467509ccea674",
       "version_major": 2,
       "version_minor": 0
      },
      "text/plain": [
       "Loading checkpoint shards:   0%|          | 0/4 [00:00<?, ?it/s]"
      ]
     },
     "metadata": {},
     "output_type": "display_data"
    },
    {
     "name": "stderr",
     "output_type": "stream",
     "text": [
      "Special tokens have been added in the vocabulary, make sure the associated word embeddings are fine-tuned or trained.\n"
     ]
    }
   ],
   "source": [
    "from transformers import AutoModelForCausalLM, AutoTokenizer\n",
    "device = \"cuda\" # the device to load the model onto\n",
    "\n",
    "model_path= '/root/autodl-tmp/qwen/Qwen2-7B-Instruct'\n",
    "\n",
    "model = AutoModelForCausalLM.from_pretrained(\n",
    "    # \"Qwen/Qwen2-7B-Instruct\",\n",
    "    model_path,\n",
    "    torch_dtype=\"auto\",\n",
    "    device_map=\"auto\"\n",
    ")\n",
    "# tokenizer = AutoTokenizer.from_pretrained(\"Qwen/Qwen2-7B-Instruct\")\n",
    "tokenizer = AutoTokenizer.from_pretrained(model_path)\n",
    "\n",
    "\n",
    "# 天下没有不散的筵席，那么我们相聚的意义又是什么？\n",
    "# 咖啡严格来说是不是也可以叫豆浆？\n",
    "# 石油也是油，为啥没人用它来炒菜？\n",
    "# 执行死刑时可以委托律师替我去吗？\n",
    "# 目前我国同性群体离婚率为零，这是否说明同性间结婚比异性更有优势？\n",
    "# 大家都说我嘴很甜，他们是怎么尝出来的？\n",
    "# 吃了降压药之后可以摸高压电吗？\n",
    "# 我爸再婚，我是不是就有了个新娘？\n",
    "# 为什么我爸妈结婚的时候没邀请我参加婚礼？\n",
    "# 蓝牙耳机坏了，去医院挂号挂牙科还是耳科？\n",
    "# 赤道那么暖和，为什么不给东北修一条？\n",
    "# 为什么长寿的都是老年人？\n",
    "# 跳多高才能跳过广告？\n",
    "# 我女朋友的老公应该叫我什么？\n",
    "# 午餐肉可以在晚餐吃吗？\n",
    "# 我想配个六千元左右的电脑，大概要多少钱？\n",
    "# 香菇掉粪坑里了还能叫香菇吗？\n",
    "# 变形金刚买保险是买车险还是人险？\n",
    "# 生蚝煮熟了之后叫什么？\n",
    "# 老鼠生病了，可以吃老鼠药治好吗？\n",
    "# 去自首的路上被抓了还算自首吗？\n",
    "# 监狱里罪犯那么多，警察为什么不直接到监狱抓人？\n",
    "# 地球上的望远镜能看到那么多星球，为什么看不到地球？\n"
   ]
  },
  {
   "cell_type": "code",
   "execution_count": 3,
   "metadata": {},
   "outputs": [],
   "source": [
    "def get_response(messages) -> str:\n",
    "    # messages = [\n",
    "    #     {\"role\": \"system\", \"content\": \"You are a helpful assistant.\"},\n",
    "    #     {\"role\": \"user\", \"content\": prompt}\n",
    "    # ]\n",
    "    text = tokenizer.apply_chat_template(\n",
    "        messages,\n",
    "        tokenize=False,\n",
    "        add_generation_prompt=True\n",
    "    )\n",
    "    model_inputs = tokenizer([text], return_tensors=\"pt\").to(device)\n",
    "\n",
    "    generated_ids = model.generate(\n",
    "        model_inputs.input_ids,\n",
    "        max_new_tokens=512\n",
    "    )\n",
    "    # how to get logits, need check doc?\n",
    "    generated_ids = [\n",
    "        output_ids[len(input_ids):] for input_ids, output_ids in zip(model_inputs.input_ids, generated_ids)\n",
    "    ]\n",
    "\n",
    "    response = tokenizer.batch_decode(generated_ids, skip_special_tokens=True)[0]\n",
    "    return response"
   ]
  },
  {
   "cell_type": "code",
   "execution_count": 8,
   "metadata": {},
   "outputs": [
    {
     "name": "stdout",
     "output_type": "stream",
     "text": [
      "相聚的意义，就像一场短暂而璀璨的烟花表演，虽然最终归于寂静，但它在那一刻绽放的光芒与美好，永远镌刻在我们的心中。它让我们体验到人与人之间连接的温暖，分享欢笑与泪水，留下珍贵的记忆。即使分别，那份共同拥有的经历和情感纽带，将像星辰一样，在未来的日子里闪烁，提醒我们曾经拥有过的美好时光。所以，相聚的意义，不仅仅在于时间的交汇，更在于心灵的相遇与成长。\n"
     ]
    }
   ],
   "source": [
    "\n",
    "prompt = \"天下没有不散的筵席，那么我们相聚的意义又是什么？\"\n",
    "messages = [\n",
    "        {\"role\": \"system\", \"content\": \"你是一位B站用户，对以下问题给出简短、机智的回答：\"},\n",
    "        {\"role\": \"user\", \"content\": prompt}\n",
    "    ]\n",
    "print(get_response(messages));\n"
   ]
  },
  {
   "cell_type": "code",
   "execution_count": 7,
   "metadata": {},
   "outputs": [
    {
     "name": "stdout",
     "output_type": "stream",
     "text": [
      "六千元左右的电脑配置可以满足日常使用和轻度游戏需求。一般来说，这个预算可能无法支持高端显卡或顶级处理器，但可以考虑以下配置作为参考：\n",
      "\n",
      "- **处理器**：Intel i5 或 AMD Ryzen 5 处理器，这两款中低端型号在性能上已经足够应对大部分日常应用和普通游戏。\n",
      "- **内存**：至少8GB RAM，推荐16GB以提升多任务处理能力。\n",
      "- **存储**：SSD+HDD组合，如256GB SSD + 1TB HDD，确保系统快速启动的同时有大量存储空间。\n",
      "- **显卡**：NVIDIA GTX 1650 或 AMD Radeon RX 5500 XT 等中端显卡，适合玩大部分主流游戏。\n",
      "- **屏幕**：1080P分辨率，大小根据个人喜好选择，如14英寸到17英寸不等。\n",
      "- **其他**：考虑电源适配器的功率，确保稳定供电，散热性能也需关注，避免长时间运行导致过热。\n",
      "\n",
      "具体价格会因品牌、促销等因素波动，建议在购买前比较不同商家的价格和评价，选择性价比高的产品。记得检查是否有额外的费用，如运费、税费等，确保预算充足。\n"
     ]
    }
   ],
   "source": [
    "prompt = \"我想配个六千元左右的电脑，大概要多少钱？\"\n",
    "messages = [\n",
    "        {\"role\": \"system\", \"content\": \"你是一位B站用户，对以下问题给出简短、机智的回答：\"},\n",
    "        {\"role\": \"user\", \"content\": prompt}\n",
    "    ]\n",
    "print(get_response(messages));"
   ]
  },
  {
   "cell_type": "code",
   "execution_count": null,
   "metadata": {},
   "outputs": [],
   "source": []
  }
 ],
 "metadata": {
  "kernelspec": {
   "display_name": "Python 3 (ipykernel)",
   "language": "python",
   "name": "python3"
  },
  "language_info": {
   "codemirror_mode": {
    "name": "ipython",
    "version": 3
   },
   "file_extension": ".py",
   "mimetype": "text/x-python",
   "name": "python",
   "nbconvert_exporter": "python",
   "pygments_lexer": "ipython3",
   "version": "3.10.8"
  }
 },
 "nbformat": 4,
 "nbformat_minor": 4
}
