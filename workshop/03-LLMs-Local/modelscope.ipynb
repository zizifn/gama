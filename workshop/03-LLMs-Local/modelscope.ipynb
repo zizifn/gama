{
 "cells": [
  {
   "cell_type": "code",
   "execution_count": 1,
   "metadata": {},
   "outputs": [],
   "source": [
    "# download modelscope\n",
    "\n",
    "# !python3 -m  pip install -i https://pypi.tuna.tsinghua.edu.cn/simple modelscope -v"
   ]
  },
  {
   "cell_type": "code",
   "execution_count": 2,
   "metadata": {},
   "outputs": [
    {
     "name": "stderr",
     "output_type": "stream",
     "text": [
      "2024-06-16 23:56:39,868 - modelscope - INFO - PyTorch version 2.3.1+cu121 Found.\n",
      "2024-06-16 23:56:39,880 - modelscope - INFO - Loading ast index from C:\\Users\\zizifn\\.cache\\modelscope\\ast_indexer\n",
      "2024-06-16 23:56:41,079 - modelscope - INFO - Loading done! Current index file version is 1.15.0, with md5 b9edbe2919ea6703c7417b1427b64190 and a total number of 980 components indexed\n",
      "c:\\Users\\zizifn\\scoop\\apps\\python\\current\\Lib\\site-packages\\tqdm\\auto.py:22: TqdmWarning: IProgress not found. Please update jupyter and ipywidgets. See https://ipywidgets.readthedocs.io/en/stable/user_install.html\n",
      "  from .autonotebook import tqdm as notebook_tqdm\n",
      "Downloading: 100%|██████████| 663/663 [00:00<00:00, 1.03kB/s]\n",
      "Downloading: 100%|██████████| 48.0/48.0 [00:00<00:00, 89.0B/s]\n",
      "Downloading: 100%|██████████| 243/243 [00:00<00:00, 527B/s]\n",
      "Downloading: 100%|██████████| 11.1k/11.1k [00:00<00:00, 18.8kB/s]\n",
      "Downloading: 100%|██████████| 1.59M/1.59M [00:00<00:00, 2.02MB/s]\n",
      "Downloading: 100%|██████████| 3.67G/3.67G [07:49<00:00, 8.41MB/s] \n",
      "Downloading: 100%|██████████| 3.60G/3.60G [09:07<00:00, 7.05MB/s]  \n",
      "Downloading: 100%|██████████| 3.60G/3.60G [10:35<00:00, 6.08MB/s] \n",
      "Downloading: 100%|██████████| 3.31G/3.31G [06:50<00:00, 8.66MB/s] \n",
      "Downloading: 100%|██████████| 27.1k/27.1k [00:00<00:00, 44.9kB/s]\n",
      "Downloading: 100%|██████████| 6.41k/6.41k [00:00<00:00, 14.9kB/s]\n",
      "Downloading: 100%|██████████| 6.70M/6.70M [00:02<00:00, 3.12MB/s]\n",
      "Downloading: 100%|██████████| 1.26k/1.26k [00:00<00:00, 2.88kB/s]\n",
      "Downloading: 100%|██████████| 2.65M/2.65M [00:01<00:00, 2.45MB/s]\n"
     ]
    }
   ],
   "source": [
    "from modelscope.hub.snapshot_download import snapshot_download\n",
    "\n",
    "snapshot_download('qwen/Qwen2-7B-Instruct')"
   ]
  }
 ],
 "metadata": {
  "kernelspec": {
   "display_name": "Python 3",
   "language": "python",
   "name": "python3"
  },
  "language_info": {
   "codemirror_mode": {
    "name": "ipython",
    "version": 3
   },
   "file_extension": ".py",
   "mimetype": "text/x-python",
   "name": "python",
   "nbconvert_exporter": "python",
   "pygments_lexer": "ipython3",
   "version": "3.11.2"
  }
 },
 "nbformat": 4,
 "nbformat_minor": 2
}
